{
 "cells": [
  {
   "cell_type": "markdown",
   "id": "2bcf71cf-c2aa-485b-b689-d27933a1a9ea",
   "metadata": {},
   "source": [
    "# データ準備"
   ]
  },
  {
   "cell_type": "markdown",
   "id": "64643cf8-f3da-46cd-941e-340bf4064949",
   "metadata": {},
   "source": [
    "## ダウンロード"
   ]
  },
  {
   "cell_type": "code",
   "execution_count": null,
   "id": "0a623c4e-70a4-469c-8955-0ba70894b9f6",
   "metadata": {},
   "outputs": [],
   "source": [
    "!git clone https://github.com/Shenggan/BCCD_Dataset.git"
   ]
  },
  {
   "cell_type": "code",
   "execution_count": null,
   "id": "252aa0c8-f5d4-44b2-a65c-c13976893ba8",
   "metadata": {},
   "outputs": [],
   "source": [
    "!mv BCCD_Dataset/BCCD ./\n",
    "!rm -rf BCCD_Dataset"
   ]
  },
  {
   "cell_type": "markdown",
   "id": "c438b392-489e-45e3-9595-9162a42e4e94",
   "metadata": {},
   "source": [
    "## データセット作成"
   ]
  },
  {
   "cell_type": "code",
   "execution_count": null,
   "id": "906cce9f-f75f-45f7-a13b-b3236109680a",
   "metadata": {},
   "outputs": [],
   "source": [
    "import os\n",
    "import xml.etree.ElementTree as ET\n",
    "\n",
    "import numpy as np\n",
    "from datasets import Dataset\n",
    "from PIL import Image\n",
    "\n",
    "id2label = {0: \"RBC\", 1: \"WBC\", 2: \"Platelets\"}\n",
    "label2id = {v: k for k, v in id2label.items()}"
   ]
  },
  {
   "cell_type": "code",
   "execution_count": null,
   "id": "08667550-5efe-4f17-aaef-44992212bf09",
   "metadata": {},
   "outputs": [],
   "source": [
    "xml_paths = [\n",
    "    f\"BCCD/Annotations/{x}\" for x in os.listdir(\"BCCD/Annotations\") if \".xml\" in x\n",
    "]\n",
    "\n",
    "datas = []\n",
    "object_start_id = 0\n",
    "for xml_path in xml_paths:\n",
    "    image_id = int(xml_path.split(\"_\")[-1].split(\".\")[0])\n",
    "    image_path = f\"BCCD/JPEGImages/BloodImage_{str(image_id).zfill(5)}.jpg\"\n",
    "\n",
    "    tree = ET.parse(xml_path)\n",
    "    root = tree.getroot()\n",
    "\n",
    "    image_info = {\n",
    "        \"image_id\": image_id,\n",
    "        \"image\": Image.open(image_path),\n",
    "        \"width\": int(root.find(\"size\").find(\"width\").text),\n",
    "        \"height\": int(root.find(\"size\").find(\"height\").text),\n",
    "    }\n",
    "\n",
    "    bboxes = [\n",
    "        [\n",
    "            float(x.find(\"xmin\").text),\n",
    "            float(x.find(\"ymin\").text),\n",
    "            float(x.find(\"xmax\").text) - float(x.find(\"xmin\").text),\n",
    "            float(x.find(\"ymax\").text) - float(x.find(\"ymin\").text),\n",
    "        ]\n",
    "        for x in [x.find(\"bndbox\") for x in root.findall(\"object\")]\n",
    "    ]\n",
    "    categories = [label2id[x.find(\"name\").text] for x in root.findall(\"object\")]\n",
    "    areas = [x[2] * x[3] for x in bboxes]\n",
    "\n",
    "    bboxes_new = []\n",
    "    categories_new = []\n",
    "    areas_new = []\n",
    "    for bbox, category, area in zip(bboxes, categories, areas):\n",
    "        if area != 0:\n",
    "            bboxes_new.append(bbox)\n",
    "            categories_new.append(category)\n",
    "            areas_new.append(area)\n",
    "    objects = {}\n",
    "    objects[\"bbox\"] = bboxes_new\n",
    "    objects[\"category\"] = categories_new\n",
    "    objects[\"area\"] = areas_new\n",
    "    objects[\"id\"] = list(np.arange(len(objects[\"area\"])) + object_start_id)\n",
    "\n",
    "    datas.append({**image_info, \"objects\": objects})\n",
    "    object_start_id += len(objects[\"id\"])"
   ]
  },
  {
   "cell_type": "code",
   "execution_count": null,
   "id": "b791d3a9-62f0-4954-b75a-e46508500600",
   "metadata": {},
   "outputs": [],
   "source": [
    "dataset = Dataset.from_list(datas)\n",
    "dataset.save_to_disk(\"BCCD_dataset\")"
   ]
  },
  {
   "cell_type": "code",
   "execution_count": null,
   "id": "19f11f1d-30e9-4450-8d0f-8df5f0d120e9",
   "metadata": {},
   "outputs": [],
   "source": []
  }
 ],
 "metadata": {
  "kernelspec": {
   "display_name": "Python 3 (ipykernel)",
   "language": "python",
   "name": "python3"
  },
  "language_info": {
   "codemirror_mode": {
    "name": "ipython",
    "version": 3
   },
   "file_extension": ".py",
   "mimetype": "text/x-python",
   "name": "python",
   "nbconvert_exporter": "python",
   "pygments_lexer": "ipython3",
   "version": "3.11.8"
  }
 },
 "nbformat": 4,
 "nbformat_minor": 5
}
